{
 "cells": [
  {
   "cell_type": "code",
   "execution_count": null,
   "metadata": {},
   "outputs": [
    {
     "name": "stdout",
     "output_type": "stream",
     "text": [
      "Invoice file created: invoice.xlsx\n"
     ]
    }
   ],
   "source": [
    "import pandas as pd\n",
    "\n",
    "# Create a DataFrame with invoice structure\n",
    "data = {\n",
    "    \"No\": [],\n",
    "    \"Item\": [],\n",
    "    \"Price\": [],\n",
    "    \"Qty\": [],\n",
    "    \"Total\": []\n",
    "}\n",
    "\n",
    "df = pd.DataFrame(data)\n",
    "\n",
    "# Save to an Excel file\n",
    "df.to_excel(\"invoice.xlsx\")\n",
    "\n",
    "print(\"Invoice file created: invoice.xlsx\")\n"
   ]
  },
  {
   "cell_type": "code",
   "execution_count": 44,
   "metadata": {},
   "outputs": [],
   "source": [
    "df = pd.read_excel(\"invoice.xlsx\", index_col=False)\n",
    "\n",
    "# df.head()  # Display the first few rows\n",
    "# print(df.columns)  # Check column names"
   ]
  },
  {
   "cell_type": "code",
   "execution_count": null,
   "metadata": {},
   "outputs": [],
   "source": [
    "def add_item(df, item, price, qty):\n",
    "    \"\"\"Add a new item to the invoice DataFrame.\"\"\"\n",
    "    total = price * qty\n",
    "    new_row = pd.DataFrame([[len(df)+1, item, price, qty, total]], columns=df.columns)\n",
    "    df = pd.concat([df, new_row], ignore_index=True)\n",
    "    return df"
   ]
  },
  {
   "cell_type": "code",
   "execution_count": 61,
   "metadata": {},
   "outputs": [
    {
     "name": "stdout",
     "output_type": "stream",
     "text": [
      "Item added successfully!\n"
     ]
    }
   ],
   "source": [
    "# Get user input\n",
    "item = input(\"Enter item name: \")\n",
    "price = float(input(\"Enter price: \"))\n",
    "qty = int(input(\"Enter quantity: \"))\n",
    "\n",
    "# Add the item\n",
    "df = add_item(df, item, price, qty)\n",
    "\n",
    "# Save back to Excel\n",
    "df.to_excel(\"invoice.xlsx\", index=False)\n",
    "\n",
    "print(\"Item added successfully!\")"
   ]
  },
  {
   "cell_type": "code",
   "execution_count": 46,
   "metadata": {},
   "outputs": [
    {
     "name": "stdout",
     "output_type": "stream",
     "text": [
      " No   Item  Price  Qty  Total\n",
      "  1    Hee     12    3     36\n",
      "  2 Escape     12    3     36\n"
     ]
    }
   ],
   "source": [
    "print(df.to_string(index=False))"
   ]
  },
  {
   "cell_type": "code",
   "execution_count": 59,
   "metadata": {},
   "outputs": [],
   "source": [
    "from reportlab.lib.pagesizes import A4\n",
    "from reportlab.pdfgen import canvas\n",
    "\n",
    "def export_to_pdf(df, pdf_path):\n",
    "    \"\"\"Export invoice data to a PDF file.\"\"\"\n",
    "    c = canvas.Canvas(pdf_path, pagesize=A4)\n",
    "    width, height = A4\n",
    "    # print(A4)\n",
    "    y = height - 50\n",
    "\n",
    "    c.setFont(\"Helvetica-Bold\", 16)\n",
    "    c.drawString(200, y, \"Invoice\")\n",
    "    y -= 40\n",
    "\n",
    "    c.drawString(50, y, \"No\")\n",
    "    c.drawString(100, y, \"Item\")\n",
    "    c.drawString(250, y, \"Price\")\n",
    "    c.drawString(350, y, \"Qty\")\n",
    "    c.drawString(450, y, \"Total\")\n",
    "    y -= 20\n",
    "\n",
    "    c.setFont(\"Helvetica\", 12)\n",
    "    for _, row in df.iterrows():\n",
    "        c.drawString(50, y, str(row[\"No\"]))\n",
    "        c.drawString(100, y, row[\"Item\"])\n",
    "        c.drawString(250, y, f\"${row['Price']:.2f}\")\n",
    "        c.drawString(350, y, str(row[\"Qty\"]))\n",
    "        c.drawString(450, y, f\"${row['Total']:.2f}\")\n",
    "        y -= 20\n",
    "    \n",
    "    c.setFont(\"Helvetica-Bold\", 12)\n",
    "    c.drawString(350, y, f\"Subtotal: \")\n",
    "    c.drawString(450, y, f\"${df['Total'].sum():.2f}\")\n",
    "    y -= 20\n",
    "    c.drawString(350, y, f\"Total (10% tax): \")\n",
    "    c.drawString(450, y, f\"${df['Total'].sum()*1.1:.2f}\")\n",
    "    c.save()\n"
   ]
  },
  {
   "cell_type": "code",
   "execution_count": 62,
   "metadata": {},
   "outputs": [
    {
     "name": "stdout",
     "output_type": "stream",
     "text": [
      "Invoice exported as PDF!\n"
     ]
    }
   ],
   "source": [
    "df = pd.read_excel(\"invoice.xlsx\")\n",
    "export_to_pdf(df, \"invoice.pdf\")\n",
    "\n",
    "print(\"Invoice exported as PDF!\")"
   ]
  },
  {
   "cell_type": "code",
   "execution_count": null,
   "metadata": {},
   "outputs": [],
   "source": []
  }
 ],
 "metadata": {
  "kernelspec": {
   "display_name": ".venv",
   "language": "python",
   "name": "python3"
  },
  "language_info": {
   "codemirror_mode": {
    "name": "ipython",
    "version": 3
   },
   "file_extension": ".py",
   "mimetype": "text/x-python",
   "name": "python",
   "nbconvert_exporter": "python",
   "pygments_lexer": "ipython3",
   "version": "3.12.6"
  }
 },
 "nbformat": 4,
 "nbformat_minor": 2
}
